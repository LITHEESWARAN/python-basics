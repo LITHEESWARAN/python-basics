{
 "cells": [
  {
   "cell_type": "raw",
   "id": "0b7be9ff",
   "metadata": {},
   "source": [
    "TOPIC: Python Basics Variable\n",
    "1. Declare two variables, `x` and `y`, and assign them integer values. Swap the values of these variables without using any temporary variable."
   ]
  },
  {
   "cell_type": "code",
   "execution_count": 1,
   "id": "f87ed773",
   "metadata": {},
   "outputs": [
    {
     "name": "stdout",
     "output_type": "stream",
     "text": [
      "Before swapping:x= 10 y= 5\n",
      "After  Swapping: x = 5  y = 10\n"
     ]
    }
   ],
   "source": [
    "x = 10\n",
    "y = 5\n",
    "print(\"Before swapping:x=\",x,\"y=\",y) #printing the x and y values before swapping \n",
    "x = x + y # x becomes 15\n",
    "y = x - y # y becomes 10\n",
    "x = x - y # x becomes 5\n",
    "print(\"After  Swapping: x =\", x, \" y =\", y) #printing the x and y values after swapping\n"
   ]
  },
  {
   "cell_type": "markdown",
   "id": "e9699017",
   "metadata": {},
   "source": [
    "2. Create a program that calculates the area of a rectangle. Take the length and width as inputs from the user and store them in variables. Calculate and display the area."
   ]
  },
  {
   "cell_type": "code",
   "execution_count": 2,
   "id": "a3b3ee95",
   "metadata": {},
   "outputs": [
    {
     "name": "stdout",
     "output_type": "stream",
     "text": [
      "Length of rectangle10\n",
      "Width of the rectangle30\n",
      "AREA OF RECTANGLE 300\n"
     ]
    }
   ],
   "source": [
    "x=int(input(\"Length of rectangle\"))  #intialize length as x\n",
    "y=int(input(\"Width of the rectangle\"))  #intialize width as y\n",
    "#calculate area of rectangle \n",
    "area=x*y #area of rectangle\n",
    "print('AREA OF RECTANGLE' ,area) #printing the area of rectangle"
   ]
  },
  {
   "cell_type": "markdown",
   "id": "23099b89",
   "metadata": {},
   "source": [
    "3. Write a Python program that converts temperatures from Celsius to Fahrenheit. Take the temperature in Celsius as input, store it in a variable, convert it to Fahrenheit, and display the result."
   ]
  },
  {
   "cell_type": "code",
   "execution_count": 3,
   "id": "9795264e",
   "metadata": {},
   "outputs": [
    {
     "name": "stdout",
     "output_type": "stream",
     "text": [
      "Enter the celsius value90\n",
      "Fahrenheit value is 194.0\n"
     ]
    }
   ],
   "source": [
    "c=int(input(\"Enter the celsius value\")) #getting celsius value from user\n",
    "f=1.8*c+32 #formula for converting celsius to fahrenheit\n",
    "print(\"Fahrenheit value is\",f) #printing the Fahrenheit value\n"
   ]
  },
  {
   "cell_type": "markdown",
   "id": "aed0c900",
   "metadata": {},
   "source": [
    "TOPIC: String Based Questions\n",
    "1. Write a Python program that takes a string as input and prints the length of the string."
   ]
  },
  {
   "cell_type": "code",
   "execution_count": 6,
   "id": "19430d38",
   "metadata": {},
   "outputs": [
    {
     "name": "stdout",
     "output_type": "stream",
     "text": [
      "Enter the string:Litheeswaran\n",
      "12\n"
     ]
    }
   ],
   "source": [
    "a=input(\"Enter the string:\") #getting string input from the user\n",
    "print(len(a)) #printing the length of the string\n"
   ]
  },
  {
   "cell_type": "markdown",
   "id": "2ff41394",
   "metadata": {},
   "source": [
    "2. Create a program that takes a sentence from the user and counts the number of vowels (a, e, i, o, u) in the string."
   ]
  },
  {
   "cell_type": "code",
   "execution_count": 8,
   "id": "e50a471c",
   "metadata": {},
   "outputs": [
    {
     "name": "stdout",
     "output_type": "stream",
     "text": [
      "Number of vowels 13\n"
     ]
    }
   ],
   "source": [
    "string = \"My first assignment in data science course\"\n",
    "vowels = \"aeiouAEIOU\"\n",
    "count = sum(string.count(vowel) for vowel in vowels) #counting no of vowels\n",
    "print(\"Number of vowels\" ,count)\n"
   ]
  },
  {
   "cell_type": "markdown",
   "id": "3b572e4a",
   "metadata": {},
   "source": [
    "3.Given a string, reverse the order of characters using string slicing and print\n",
    "the reversed string."
   ]
  },
  {
   "cell_type": "code",
   "execution_count": 15,
   "id": "18c796fe",
   "metadata": {},
   "outputs": [
    {
     "name": "stdout",
     "output_type": "stream",
     "text": [
      "Reverse order: cneics atad\n"
     ]
    }
   ],
   "source": [
    "string=\"data science\"#given string \n",
    "print(\"Reverse order:\",string[10:-15:-1])#reversing the string"
   ]
  },
  {
   "cell_type": "markdown",
   "id": "dbad82e5",
   "metadata": {},
   "source": [
    "4. Write a program that takes a string as input and checks if it is a palindrome"
   ]
  },
  {
   "cell_type": "code",
   "execution_count": 17,
   "id": "1b035a59",
   "metadata": {
    "scrolled": true
   },
   "outputs": [
    {
     "name": "stdout",
     "output_type": "stream",
     "text": [
      "Enter a string:Lithees\n",
      "The string is not a palindrome\n"
     ]
    }
   ],
   "source": [
    "string=input((\"Enter a string:\"))  #getting string from the user\n",
    "if(string==string[::-1]):             #checking whether string is palindrome\n",
    "      print(\"The string is a palindrome\")  #printing\n",
    "else:  \n",
    "      print(\"The string is not a palindrome\")#printing"
   ]
  },
  {
   "cell_type": "markdown",
   "id": "5a834438",
   "metadata": {},
   "source": [
    "5. Create a program that takes a string as input and removes all the spaces from it. Print the modified string without spaces."
   ]
  },
  {
   "cell_type": "code",
   "execution_count": 19,
   "id": "290efd57",
   "metadata": {},
   "outputs": [
    {
     "name": "stdout",
     "output_type": "stream",
     "text": [
      "data\n"
     ]
    }
   ],
   "source": [
    "def remove(string):\n",
    "    return string.replace(\" \", \"\") #using replace function\n",
    "string = 'd a t a '\n",
    "print(remove(string)) #printing "
   ]
  }
 ],
 "metadata": {
  "kernelspec": {
   "display_name": "Python 3 (ipykernel)",
   "language": "python",
   "name": "python3"
  },
  "language_info": {
   "codemirror_mode": {
    "name": "ipython",
    "version": 3
   },
   "file_extension": ".py",
   "mimetype": "text/x-python",
   "name": "python",
   "nbconvert_exporter": "python",
   "pygments_lexer": "ipython3",
   "version": "3.9.12"
  }
 },
 "nbformat": 4,
 "nbformat_minor": 5
}
